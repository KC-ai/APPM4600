{
  "nbformat": 4,
  "nbformat_minor": 0,
  "metadata": {
    "colab": {
      "provenance": [],
      "authorship_tag": "ABX9TyMuh3YZd7lm91wlI5U6ZIUy",
      "include_colab_link": true
    },
    "kernelspec": {
      "name": "python3",
      "display_name": "Python 3"
    },
    "language_info": {
      "name": "python"
    }
  },
  "cells": [
    {
      "cell_type": "markdown",
      "metadata": {
        "id": "view-in-github",
        "colab_type": "text"
      },
      "source": [
        "<a href=\"https://colab.research.google.com/github/KC-ai/APPM4600/blob/main/Lab6.ipynb\" target=\"_parent\"><img src=\"https://colab.research.google.com/assets/colab-badge.svg\" alt=\"Open In Colab\"/></a>"
      ]
    },
    {
      "cell_type": "code",
      "execution_count": 2,
      "metadata": {
        "id": "DdLNMNi13dRs"
      },
      "outputs": [],
      "source": [
        "import numpy as np\n",
        "import math\n",
        "import time\n",
        "from numpy.linalg import inv\n",
        "from numpy.linalg import norm"
      ]
    },
    {
      "cell_type": "markdown",
      "source": [
        "#3.2 Exercises: Build Slacker Newton"
      ],
      "metadata": {
        "id": "RrOAtNL94LCd"
      }
    },
    {
      "cell_type": "code",
      "source": [
        "\n",
        "\n",
        "def driver():\n",
        "\n",
        "    x0 = np.array([0.1, 0.1, -0.1])\n",
        "\n",
        "    Nmax = 100\n",
        "    tol = 1e-10\n",
        "\n",
        "    t = time.time()\n",
        "    for j in range(50):\n",
        "      [xstar,ier,its] =  Newton(x0,tol,Nmax)\n",
        "    elapsed = time.time()-t\n",
        "    print(xstar)\n",
        "    print('Newton: the error message reads:',ier)\n",
        "    print('Newton: took this many seconds:',elapsed/50)\n",
        "    print('Netwon: number of iterations is:',its)\n",
        "\n",
        "    t = time.time()\n",
        "    for j in range(20):\n",
        "      [xstar,ier,its] =  LazyNewton(x0,tol,Nmax)\n",
        "    elapsed = time.time()-t\n",
        "    print(xstar)\n",
        "    print('Lazy Newton: the error message reads:',ier)\n",
        "    print('Lazy Newton: took this many seconds:',elapsed/20)\n",
        "    print('Lazy Newton: number of iterations is:',its)\n",
        "\n",
        "    t = time.time()\n",
        "    for j in range(20):\n",
        "      [xstar,ier,its] = Broyden(x0, tol,Nmax)\n",
        "    elapsed = time.time()-t\n",
        "    print(xstar)\n",
        "    print('Broyden: the error message reads:',ier)\n",
        "    print('Broyden: took this many seconds:',elapsed/20)\n",
        "    print('Broyden: number of iterations is:',its)\n",
        "\n",
        "def evalF(x):\n",
        "\n",
        "    F = np.zeros(3)\n",
        "\n",
        "    F[0] = 3*x[0]-math.cos(x[1]*x[2])-1/2\n",
        "    F[1] = x[0]-81*(x[1]+0.1)**2+math.sin(x[2])+1.06\n",
        "    F[2] = np.exp(-x[0]*x[1])+20*x[2]+(10*math.pi-3)/3\n",
        "    return F\n",
        "\n",
        "def evalJ(x):\n",
        "\n",
        "\n",
        "    J = np.array([[3.0, x[2]*math.sin(x[1]*x[2]), x[1]*math.sin(x[1]*x[2])],\n",
        "        [2.*x[0], -162.*(x[1]+0.1), math.cos(x[2])],\n",
        "        [-x[1]*np.exp(-x[0]*x[1]), -x[0]*np.exp(-x[0]*x[1]), 20]])\n",
        "    return J\n",
        "\n",
        "\n",
        "def Newton(x0,tol,Nmax):\n",
        "\n",
        "    ''' inputs: x0 = initial guess, tol = tolerance, Nmax = max its'''\n",
        "    ''' Outputs: xstar= approx root, ier = error message, its = num its'''\n",
        "\n",
        "    for its in range(Nmax):\n",
        "       J = evalJ(x0)\n",
        "       Jinv = inv(J)\n",
        "       F = evalF(x0)\n",
        "\n",
        "       x1 = x0 - Jinv.dot(F)\n",
        "\n",
        "       if (norm(x1-x0) < tol):\n",
        "           xstar = x1\n",
        "           ier =0\n",
        "           return[xstar, ier, its]\n",
        "\n",
        "       x0 = x1\n",
        "\n",
        "    xstar = x1\n",
        "    ier = 1\n",
        "    return[xstar,ier,its]\n",
        "\n",
        "def LazyNewton(x0,tol,Nmax):\n",
        "\n",
        "    ''' Lazy Newton = use only the inverse of the Jacobian for initial guess'''\n",
        "    ''' inputs: x0 = initial guess, tol = tolerance, Nmax = max its'''\n",
        "    ''' Outputs: xstar= approx root, ier = error message, its = num its'''\n",
        "\n",
        "    J = evalJ(x0)\n",
        "    Jinv = inv(J)\n",
        "    for its in range(Nmax):\n",
        "\n",
        "       F = evalF(x0)\n",
        "       x1 = x0 - Jinv.dot(F)\n",
        "\n",
        "       if (norm(x1-x0) < tol):\n",
        "           xstar = x1\n",
        "           ier =0\n",
        "           return[xstar, ier,its]\n",
        "\n",
        "       x0 = x1\n",
        "\n",
        "    xstar = x1\n",
        "    ier = 1\n",
        "    return[xstar,ier,its]\n",
        "\n",
        "def Broyden(x0,tol,Nmax):\n",
        "    '''tol = desired accuracy\n",
        "    Nmax = max number of iterations'''\n",
        "\n",
        "    '''Sherman-Morrison\n",
        "   (A+xy^T)^{-1} = A^{-1}-1/p*(A^{-1}xy^TA^{-1})\n",
        "    where p = 1+y^TA^{-1}Ax'''\n",
        "\n",
        "    '''In Newton\n",
        "    x_k+1 = xk -(G(x_k))^{-1}*F(x_k)'''\n",
        "\n",
        "\n",
        "    '''In Broyden\n",
        "    x = [F(xk)-F(xk-1)-\\hat{G}_k-1(xk-xk-1)\n",
        "    y = x_k-x_k-1/||x_k-x_k-1||^2'''\n",
        "\n",
        "    ''' implemented as in equation (10.16) on page 650 of text'''\n",
        "\n",
        "    '''initialize with 1 newton step'''\n",
        "\n",
        "    A0 = evalJ(x0)\n",
        "\n",
        "    v = evalF(x0)\n",
        "    A = np.linalg.inv(A0)\n",
        "\n",
        "    s = -A.dot(v)\n",
        "    xk = x0+s\n",
        "    for  its in range(Nmax):\n",
        "       '''(save v from previous step)'''\n",
        "       w = v\n",
        "       ''' create new v'''\n",
        "       v = evalF(xk)\n",
        "       '''y_k = F(xk)-F(xk-1)'''\n",
        "       y = v-w;\n",
        "       '''-A_{k-1}^{-1}y_k'''\n",
        "       z = -A.dot(y)\n",
        "       ''' p = s_k^tA_{k-1}^{-1}y_k'''\n",
        "       p = -np.dot(s,z)\n",
        "       u = np.dot(s,A)\n",
        "       ''' A = A_k^{-1} via Morrison formula'''\n",
        "       tmp = s+z\n",
        "       tmp2 = np.outer(tmp,u)\n",
        "       A = A+1./p*tmp2\n",
        "       ''' -A_k^{-1}F(x_k)'''\n",
        "       s = -A.dot(v)\n",
        "       xk = xk+s\n",
        "       if (norm(s)<tol):\n",
        "          alpha = xk\n",
        "          ier = 0\n",
        "          return[alpha,ier,its]\n",
        "    alpha = xk\n",
        "    ier = 1\n",
        "    return[alpha,ier,its]\n",
        "\n",
        "\n",
        "if __name__ == '__main__':\n",
        "    # run the drivers only if this is called from the command line\n",
        "    driver()\n"
      ],
      "metadata": {
        "colab": {
          "base_uri": "https://localhost:8080/"
        },
        "id": "beq261F54U6k",
        "outputId": "88b75d9b-a041-4753-ac28-ef54b799551c"
      },
      "execution_count": 3,
      "outputs": [
        {
          "output_type": "stream",
          "name": "stdout",
          "text": [
            "[ 0.49999052  0.01441216 -0.52323977]\n",
            "Newton: the error message reads: 0\n",
            "Newton: took this many seconds: 0.0002770853042602539\n",
            "Netwon: number of iterations is: 4\n",
            "[ 0.49999052  0.01441216 -0.52323977]\n",
            "Lazy Newton: the error message reads: 0\n",
            "Lazy Newton: took this many seconds: 0.00042406320571899416\n",
            "Lazy Newton: number of iterations is: 22\n",
            "[ 0.49999052  0.01441216 -0.52323977]\n",
            "Broyden: the error message reads: 0\n",
            "Broyden: took this many seconds: 0.0003982663154602051\n",
            "Broyden: number of iterations is: 6\n"
          ]
        }
      ]
    },
    {
      "cell_type": "markdown",
      "source": [
        "The slacker performed similarly to my partners, it converges to 0.5 pretty much is what me and my group table mates all had\n"
      ],
      "metadata": {
        "id": "bxQbkeTN8_3Q"
      }
    },
    {
      "cell_type": "code",
      "source": [
        "#it performed very similarly to the class function"
      ],
      "metadata": {
        "id": "qzKzs9KT9NV8"
      },
      "execution_count": 4,
      "outputs": []
    }
  ]
}