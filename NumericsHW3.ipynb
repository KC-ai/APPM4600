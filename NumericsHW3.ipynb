{
  "nbformat": 4,
  "nbformat_minor": 0,
  "metadata": {
    "colab": {
      "provenance": [],
      "authorship_tag": "ABX9TyMNGPlPMhWcdoR1uVBFmaTk",
      "include_colab_link": true
    },
    "kernelspec": {
      "name": "python3",
      "display_name": "Python 3"
    },
    "language_info": {
      "name": "python"
    }
  },
  "cells": [
    {
      "cell_type": "markdown",
      "metadata": {
        "id": "view-in-github",
        "colab_type": "text"
      },
      "source": [
        "<a href=\"https://colab.research.google.com/github/KC-ai/APPM4600/blob/main/NumericsHW3.ipynb\" target=\"_parent\"><img src=\"https://colab.research.google.com/assets/colab-badge.svg\" alt=\"Open In Colab\"/></a>"
      ]
    },
    {
      "cell_type": "code",
      "execution_count": 7,
      "metadata": {
        "id": "cFa8BLAn6oFe"
      },
      "outputs": [],
      "source": [
        "# import libraries\n",
        "import numpy as np\n",
        "import matplotlib.pyplot as plt"
      ]
    },
    {
      "cell_type": "markdown",
      "source": [
        "#Problem 1 (c)"
      ],
      "metadata": {
        "id": "KiDPdBlH9itF"
      }
    },
    {
      "cell_type": "code",
      "source": [
        "def driver():\n",
        "# use routines\n",
        "  f = lambda x: 2*x - 1 - np.sin(x)\n",
        "  a = 0\n",
        "  b = 1\n",
        "  tol = 1e-7\n",
        "  [astar,ier] = bisection(f,a,b,tol)\n",
        "  print('the approximate root is',astar)\n",
        "  print('the error message reads:',ier)\n",
        "  print('f(astar) =', f(astar))"
      ],
      "metadata": {
        "id": "bJc83GOI6zW4"
      },
      "execution_count": 8,
      "outputs": []
    },
    {
      "cell_type": "code",
      "source": [
        "def bisection(f,a,b,tol):\n",
        "    # Inputs:\n",
        "    # f,a,b - function and endpoints of initial interval\n",
        "    # tol - bisection stops when interval length < tol\n",
        "    # Returns:\n",
        "    # astar - approximation of root\n",
        "    # ier - error message\n",
        "    #         ier = 1 => fail (f(a) and f(b) have same sign)\n",
        "    #         ier = 0 => success\n",
        "\n",
        "    fa = f(a)\n",
        "    fb = f(b)\n",
        "    if fa * fb > 0:\n",
        "        return [a, 1]\n",
        "\n",
        "    if fa == 0:\n",
        "        return [a, 0]\n",
        "    if fb == 0:\n",
        "        return [b, 0]\n",
        "\n",
        "    count = 0\n",
        "    while abs(b - a) > tol:\n",
        "        d = 0.5*(a + b)\n",
        "        fd = f(d)\n",
        "\n",
        "        if fd == 0:\n",
        "            return [d, 0]\n",
        "\n",
        "\n",
        "        if fa * fd < 0:\n",
        "            b = d\n",
        "            fb = fd\n",
        "        else:\n",
        "            a = d\n",
        "            fa = fd\n",
        "\n",
        "        count += 1\n",
        "\n",
        "    astar = 0.5*(a + b)\n",
        "    ier = 0\n",
        "    print(\"Number of iterations=\", count)\n",
        "    return [astar, ier]\n"
      ],
      "metadata": {
        "id": "eMF_DTZW9Jpg"
      },
      "execution_count": 9,
      "outputs": []
    },
    {
      "cell_type": "code",
      "source": [
        "driver()"
      ],
      "metadata": {
        "colab": {
          "base_uri": "https://localhost:8080/"
        },
        "id": "NivSLa_69U4Q",
        "outputId": "fad578cd-88be-4085-ea35-cfe3285a137a"
      },
      "execution_count": 10,
      "outputs": [
        {
          "output_type": "stream",
          "name": "stdout",
          "text": [
            "Number of iterations= 24\n",
            "the approximate root is 0.8878622353076935\n",
            "the error message reads: 0\n",
            "f(astar) = 3.24940127027773e-08\n"
          ]
        }
      ]
    },
    {
      "cell_type": "markdown",
      "source": [
        "# Problem 2"
      ],
      "metadata": {
        "id": "OACrijxq_ckV"
      }
    },
    {
      "cell_type": "markdown",
      "source": [
        "## Problem 2a"
      ],
      "metadata": {
        "id": "fyb2IGOG_d-8"
      }
    },
    {
      "cell_type": "code",
      "source": [
        "def driver2():\n",
        "# use routines\n",
        "  f = lambda x:(x-5)**9\n",
        "  a = 4.82\n",
        "  b = 5.2\n",
        "  tol = 1e-4\n",
        "  [astar,ier] = bisection(f,a,b,tol)\n",
        "  print('the approximate root is',astar)\n",
        "  print('the error message reads:',ier)\n",
        "  print('f(astar) =', f(astar))\n",
        "\n",
        "\n",
        "\n",
        "driver2()\n"
      ],
      "metadata": {
        "colab": {
          "base_uri": "https://localhost:8080/"
        },
        "id": "3H8e7HGX_gS3",
        "outputId": "ea381742-c938-4597-926e-4b37ddcff09b"
      },
      "execution_count": 11,
      "outputs": [
        {
          "output_type": "stream",
          "name": "stdout",
          "text": [
            "Number of iterations= 12\n",
            "the approximate root is 5.00002685546875\n",
            "the error message reads: 0\n",
            "f(astar) = 7.265987304979065e-42\n"
          ]
        }
      ]
    },
    {
      "cell_type": "markdown",
      "source": [
        "## Problem 2b"
      ],
      "metadata": {
        "id": "FpYvv-v6_gwE"
      }
    },
    {
      "cell_type": "code",
      "source": [
        "def driver2b():\n",
        "# use routines\n",
        "  f = lambda x: x**9 - 45*x**8 + 900*x**7 - 10500*x**6 + 78750*x**5 - 393750*x**4 + 1312500*x**3 - 2812500*x**2 + 3515625*x - 1953125\n",
        "  a = 4.82\n",
        "  b = 5.2\n",
        "  tol = 1e-4\n",
        "  [astar,ier] = bisection(f,a,b,tol)\n",
        "  print('the approximate root is',astar)\n",
        "  print('the error message reads:',ier)\n",
        "  print('f(astar) =', f(astar))\n",
        "\n",
        "\n",
        "driver2b()\n"
      ],
      "metadata": {
        "colab": {
          "base_uri": "https://localhost:8080/"
        },
        "id": "XcN5_6IIAip4",
        "outputId": "d5ce50b0-b189-4792-fae9-aea775ad6d05"
      },
      "execution_count": 12,
      "outputs": [
        {
          "output_type": "stream",
          "name": "stdout",
          "text": [
            "the approximate root is 5.12875\n",
            "the error message reads: 0\n",
            "f(astar) = 0.0\n"
          ]
        }
      ]
    },
    {
      "cell_type": "markdown",
      "source": [
        "#Problem 3b"
      ],
      "metadata": {
        "id": "RTdwLmQH1y5o"
      }
    },
    {
      "cell_type": "code",
      "source": [
        "def driver3b():\n",
        "# use routines\n",
        "  f = lambda x: x**3 + x - 4\n",
        "  a = 1\n",
        "  b = 4\n",
        "  tol = 1e-3\n",
        "  [astar,ier] = bisection(f,a,b,tol)\n",
        "  print('the approximate root is',astar)\n",
        "  print('the error message reads:',ier)\n",
        "  print('f(astar) =', f(astar))\n",
        "\n",
        "\n",
        "driver3b()\n"
      ],
      "metadata": {
        "colab": {
          "base_uri": "https://localhost:8080/"
        },
        "id": "aK9yvyMZ12jZ",
        "outputId": "e04e02ce-b851-4dc0-c859-70297c36219c"
      },
      "execution_count": 13,
      "outputs": [
        {
          "output_type": "stream",
          "name": "stdout",
          "text": [
            "Number of iterations= 12\n",
            "the approximate root is 1.3790283203125\n",
            "the error message reads: 0\n",
            "f(astar) = 0.0015528278327110456\n"
          ]
        }
      ]
    },
    {
      "cell_type": "code",
      "source": [],
      "metadata": {
        "id": "wNvJhWAQ12vq"
      },
      "execution_count": 13,
      "outputs": []
    },
    {
      "cell_type": "markdown",
      "source": [
        "# Problem 5\n",
        "\n",
        "\n"
      ],
      "metadata": {
        "id": "GIFOprT7NJ-_"
      }
    },
    {
      "cell_type": "markdown",
      "source": [
        "## Problem 5a"
      ],
      "metadata": {
        "id": "dFVKjJ_lNMRi"
      }
    },
    {
      "cell_type": "code",
      "source": [
        "\n",
        "def f(x):\n",
        "    return x - 4 * np.sin(2 * x) - 3\n",
        "\n",
        "\n",
        "x_range = np.linspace(-10, 10, 1000)\n",
        "output = f(x_range)\n",
        "\n",
        "plt.figure(figsize=(10, 6))\n",
        "plt.plot(x_range, output, label=\"f(x) = x - 4*sin(2x) - 3\")\n",
        "plt.axhline(0, color=\"black\", linewidth=1, linestyle=\"--\")\n",
        "plt.title(\"f(x) = x - 4*sin(2x) - 3\")\n",
        "plt.xlabel(\"x\")\n",
        "plt.ylabel(\"f(x)\")\n",
        "plt.legend()\n",
        "plt.show()\n",
        "\n",
        "\n",
        "numzeroes = 0\n",
        "for i in range(len(x_range) - 1):\n",
        "    if output[i] * output[i + 1] < 0:\n",
        "        numzeroes += 1\n",
        "\n",
        "print(f\"Number of zero crossings: {numzeroes}\")\n"
      ],
      "metadata": {
        "colab": {
          "base_uri": "https://localhost:8080/",
          "height": 580
        },
        "id": "qAfUS-JXNRlI",
        "outputId": "b36f93eb-b6ca-416d-e2d4-45eb3c5a3d1f"
      },
      "execution_count": 14,
      "outputs": [
        {
          "output_type": "display_data",
          "data": {
            "text/plain": [
              "<Figure size 1000x600 with 1 Axes>"
            ],
            "image/png": "[encoded data removed]"
          },
          "metadata": {}
        },
        {
          "output_type": "stream",
          "name": "stdout",
          "text": [
            "Number of zero crossings: 5\n"
          ]
        }
      ]
    },
    {
      "cell_type": "markdown",
      "source": [
        "## problem 5b"
      ],
      "metadata": {
        "id": "EkIFOpEGQAur"
      }
    },
    {
      "cell_type": "code",
      "source": [
        "def fixedpt(f, x0, tol, Nmax):\n",
        "    \"\"\"\n",
        "    Fixed-point iteration method.\n",
        "    f: Function for iteration\n",
        "    x0: Initial guess\n",
        "    tol: Stopping tolerance\n",
        "    Nmax: Maximum number of iterations\n",
        "    Returns:\n",
        "        [xstar, ier]: Approximate fixed point and error flag\n",
        "    \"\"\"\n",
        "    count = 0\n",
        "    while count < Nmax:\n",
        "        count += 1\n",
        "        x1 = f(x0)\n",
        "        if abs(x1 - x0) < tol:\n",
        "            return [x1, 0]\n",
        "        x0 = x1\n",
        "    return [x0, 1]\n",
        "\n",
        "\n",
        "def driver():\n",
        "    \"\"\"\n",
        "    Driver function for fixed-point iteration with multiple starting guesses.\n",
        "    \"\"\"\n",
        "    g = lambda x: -np.sin(2 * x) + 5.0 * (x / 4.0) - (3.0 / 4.0)  # Fixed-point function\n",
        "\n",
        "    Nmax = 100\n",
        "    tol = 1e-10\n",
        "\n",
        "    guesses = [0.0, 2.0, 4.0, 6.0]\n",
        "\n",
        "    for x0 in guesses:\n",
        "        [xstar, ier] = fixedpt(g, x0, tol, Nmax)\n",
        "        if ier == 0:\n",
        "            print(f\"Guess x0 = {x0:f} converges to x* = {xstar:.11g}\")\n",
        "        else:\n",
        "            print(f\"Guess x0 = {x0:f} doesn't converge\")\n",
        "\n",
        "\n",
        "if __name__ == \"__main__\":\n",
        "    driver()\n"
      ],
      "metadata": {
        "colab": {
          "base_uri": "https://localhost:8080/"
        },
        "id": "qdbtWRzJLXNW",
        "outputId": "919d8cea-e4de-4916-d1b3-c584ac4f259a"
      },
      "execution_count": 16,
      "outputs": [
        {
          "output_type": "stream",
          "name": "stdout",
          "text": [
            "Guess x0 = 0.000000 converges to x* = -0.54444240071\n",
            "Guess x0 = 2.000000 converges to x* = 3.1618264866\n",
            "Guess x0 = 4.000000 converges to x* = 3.1618264865\n",
            "Guess x0 = 6.000000 doesn't converge\n"
          ]
        }
      ]
    }
  ]
}