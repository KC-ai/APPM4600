{
  "nbformat": 4,
  "nbformat_minor": 0,
  "metadata": {
    "colab": {
      "provenance": [],
      "authorship_tag": "ABX9TyMu3xJlKBEyMVDGj2lCzV5S",
      "include_colab_link": true
    },
    "kernelspec": {
      "name": "python3",
      "display_name": "Python 3"
    },
    "language_info": {
      "name": "python"
    }
  },
  "cells": [
    {
      "cell_type": "markdown",
      "metadata": {
        "id": "view-in-github",
        "colab_type": "text"
      },
      "source": [
        "<a href=\"https://colab.research.google.com/github/KC-ai/APPM4600/blob/main/NumericsHW5.ipynb\" target=\"_parent\"><img src=\"https://colab.research.google.com/assets/colab-badge.svg\" alt=\"Open In Colab\"/></a>"
      ]
    },
    {
      "cell_type": "code",
      "source": [
        "import numpy as np\n",
        "import math"
      ],
      "metadata": {
        "id": "isfJzcUq1Npv"
      },
      "execution_count": 13,
      "outputs": []
    },
    {
      "cell_type": "markdown",
      "source": [
        "# Problem 1"
      ],
      "metadata": {
        "id": "atCbG8LtcJ1V"
      }
    },
    {
      "cell_type": "markdown",
      "source": [
        "## Part a"
      ],
      "metadata": {
        "id": "NUibXu9FcMfj"
      }
    },
    {
      "cell_type": "code",
      "execution_count": 14,
      "metadata": {
        "id": "AbCHZ7QCYmwU"
      },
      "outputs": [],
      "source": [
        "def f(x, y):\n",
        "  return 3*x**2 - y**2\n",
        "\n",
        "def g(x, y):\n",
        "  return 3*y**2 - x**3 - 1"
      ]
    },
    {
      "cell_type": "code",
      "source": [
        "def iteration1(x0, y0, tol=1e-12):\n",
        "\n",
        "    coeffs = np.array([[-1/6,  1/18],\n",
        "                  [ 0   ,  1/6 ]], dtype=float)\n",
        "\n",
        "    x, y = x0, y0\n",
        "    res = [(x, y)]\n",
        "\n",
        "    for n in range(50):\n",
        "        calc = np.array([f(x, y), g(x, y)], dtype=float)\n",
        "\n",
        "        steps = coeffs @ calc\n",
        "        x_new = x - steps[0]\n",
        "        y_new = y - steps[1]\n",
        "\n",
        "        if np.sqrt((x_new - x)**2 + (y_new - y)**2) < tol:\n",
        "            x, y = x_new, y_new\n",
        "            res.append((x, y))\n",
        "            break\n",
        "\n",
        "        x, y = x_new, y_new\n",
        "        res.append((x, y))\n",
        "\n",
        "    return x, y, res\n",
        "\n",
        "x_res, y_res, res = iteration1(1, 1)\n",
        "\n",
        "for i, (x1, y1) in enumerate(res):\n",
        "    print(f\"Iteration {i}: x = {x1:.8f}, y = {y1:.8f}, f(x,y) = {f(x1,y1):.6e}, g(x,y) = {g(x1,y1):.6e}\")\n",
        "\n",
        "print(f\"x ≈ {x_res:.8f},  y ≈ {y_res:.8f}, f(x,y) ≈ {f(x_res, y_res):.6e},  g(x,y) ≈ {g(x_res, y_res):.6e}\")\n",
        "\n"
      ],
      "metadata": {
        "colab": {
          "base_uri": "https://localhost:8080/"
        },
        "id": "xQDvwcA4cq3S",
        "outputId": "621e3948-c5ea-42eb-9d90-e2a9ddecaa8d"
      },
      "execution_count": 15,
      "outputs": [
        {
          "output_type": "stream",
          "name": "stdout",
          "text": [
            "Iteration 0: x = 1.00000000, y = 1.00000000, f(x,y) = 2.000000e+00, g(x,y) = 1.000000e+00\n",
            "Iteration 1: x = 1.27777778, y = 0.83333333, f(x,y) = 4.203704e+00, g(x,y) = -1.002915e+00\n",
            "Iteration 2: x = 2.03411256, y = 1.00048583, f(x,y) = 1.141187e+01, g(x,y) = -6.413457e+00\n",
            "Iteration 3: x = 4.29239402, y = 2.06939528, f(x,y) = 5.099154e+01, g(x,y) = -6.723865e+01\n",
            "Iteration 4: x = 16.52646503, y = 13.27583717, f(x,y) = 6.431243e+02, g(x,y) = -3.986031e+03\n",
            "Iteration 5: x = 345.16003746, y = 677.61441119, f(x,y) = -1.017549e+05, g(x,y) = -3.974331e+07\n",
            "Iteration 6: x = 2191347.89393383, y = 6624563.28403549, f(x,y) = -2.947882e+13, g(x,y) = -1.052273e+19\n",
            "Iteration 7: x = 584591375016067584.00000000, y = 1753788864459217152.00000000, f(x,y) = -2.050534e+36, g(x,y) = -1.997824e+53\n",
            "Iteration 8: x = 11099021828690210101474088826946027826036040324349952.00000000, y = 33297065486070627645966274911006337670494000412360704.00000000, f(x,y) = -7.391297e+104, g(x,y) = -1.367269e+156\n",
            "Iteration 9: x = 75959415022216817156357114769315827951086839955604250666946618546510684570821868683219213823157379989068780093168130706692445396184846742692578007552360448.00000000, y = 227878245066650463377597003167170778613381788303879042850899909140551153364401029425251737919383715743520515173806650267610490185619599491108647105879605248.00000000, f(x,y) = nan, g(x,y) = nan\n",
            "Iteration 10: x = nan, y = nan, f(x,y) = nan, g(x,y) = nan\n",
            "Iteration 11: x = nan, y = nan, f(x,y) = nan, g(x,y) = nan\n",
            "Iteration 12: x = nan, y = nan, f(x,y) = nan, g(x,y) = nan\n",
            "Iteration 13: x = nan, y = nan, f(x,y) = nan, g(x,y) = nan\n",
            "Iteration 14: x = nan, y = nan, f(x,y) = nan, g(x,y) = nan\n",
            "Iteration 15: x = nan, y = nan, f(x,y) = nan, g(x,y) = nan\n",
            "Iteration 16: x = nan, y = nan, f(x,y) = nan, g(x,y) = nan\n",
            "Iteration 17: x = nan, y = nan, f(x,y) = nan, g(x,y) = nan\n",
            "Iteration 18: x = nan, y = nan, f(x,y) = nan, g(x,y) = nan\n",
            "Iteration 19: x = nan, y = nan, f(x,y) = nan, g(x,y) = nan\n",
            "Iteration 20: x = nan, y = nan, f(x,y) = nan, g(x,y) = nan\n",
            "Iteration 21: x = nan, y = nan, f(x,y) = nan, g(x,y) = nan\n",
            "Iteration 22: x = nan, y = nan, f(x,y) = nan, g(x,y) = nan\n",
            "Iteration 23: x = nan, y = nan, f(x,y) = nan, g(x,y) = nan\n",
            "Iteration 24: x = nan, y = nan, f(x,y) = nan, g(x,y) = nan\n",
            "Iteration 25: x = nan, y = nan, f(x,y) = nan, g(x,y) = nan\n",
            "Iteration 26: x = nan, y = nan, f(x,y) = nan, g(x,y) = nan\n",
            "Iteration 27: x = nan, y = nan, f(x,y) = nan, g(x,y) = nan\n",
            "Iteration 28: x = nan, y = nan, f(x,y) = nan, g(x,y) = nan\n",
            "Iteration 29: x = nan, y = nan, f(x,y) = nan, g(x,y) = nan\n",
            "Iteration 30: x = nan, y = nan, f(x,y) = nan, g(x,y) = nan\n",
            "Iteration 31: x = nan, y = nan, f(x,y) = nan, g(x,y) = nan\n",
            "Iteration 32: x = nan, y = nan, f(x,y) = nan, g(x,y) = nan\n",
            "Iteration 33: x = nan, y = nan, f(x,y) = nan, g(x,y) = nan\n",
            "Iteration 34: x = nan, y = nan, f(x,y) = nan, g(x,y) = nan\n",
            "Iteration 35: x = nan, y = nan, f(x,y) = nan, g(x,y) = nan\n",
            "Iteration 36: x = nan, y = nan, f(x,y) = nan, g(x,y) = nan\n",
            "Iteration 37: x = nan, y = nan, f(x,y) = nan, g(x,y) = nan\n",
            "Iteration 38: x = nan, y = nan, f(x,y) = nan, g(x,y) = nan\n",
            "Iteration 39: x = nan, y = nan, f(x,y) = nan, g(x,y) = nan\n",
            "Iteration 40: x = nan, y = nan, f(x,y) = nan, g(x,y) = nan\n",
            "Iteration 41: x = nan, y = nan, f(x,y) = nan, g(x,y) = nan\n",
            "Iteration 42: x = nan, y = nan, f(x,y) = nan, g(x,y) = nan\n",
            "Iteration 43: x = nan, y = nan, f(x,y) = nan, g(x,y) = nan\n",
            "Iteration 44: x = nan, y = nan, f(x,y) = nan, g(x,y) = nan\n",
            "Iteration 45: x = nan, y = nan, f(x,y) = nan, g(x,y) = nan\n",
            "Iteration 46: x = nan, y = nan, f(x,y) = nan, g(x,y) = nan\n",
            "Iteration 47: x = nan, y = nan, f(x,y) = nan, g(x,y) = nan\n",
            "Iteration 48: x = nan, y = nan, f(x,y) = nan, g(x,y) = nan\n",
            "Iteration 49: x = nan, y = nan, f(x,y) = nan, g(x,y) = nan\n",
            "Iteration 50: x = nan, y = nan, f(x,y) = nan, g(x,y) = nan\n",
            "x ≈ nan,  y ≈ nan, f(x,y) ≈ nan,  g(x,y) ≈ nan\n"
          ]
        },
        {
          "output_type": "stream",
          "name": "stderr",
          "text": [
            "<ipython-input-15-2c8b8cae04d8>:16: RuntimeWarning: overflow encountered in scalar power\n",
            "  if np.sqrt((x_new - x)**2 + (y_new - y)**2) < tol:\n",
            "<ipython-input-14-0e29cb5aa6ff>:2: RuntimeWarning: overflow encountered in scalar power\n",
            "  return 3*x**2 - y**2\n",
            "<ipython-input-14-0e29cb5aa6ff>:2: RuntimeWarning: invalid value encountered in scalar subtract\n",
            "  return 3*x**2 - y**2\n",
            "<ipython-input-14-0e29cb5aa6ff>:5: RuntimeWarning: overflow encountered in scalar power\n",
            "  return 3*y**2 - x**3 - 1\n",
            "<ipython-input-14-0e29cb5aa6ff>:5: RuntimeWarning: invalid value encountered in scalar subtract\n",
            "  return 3*y**2 - x**3 - 1\n"
          ]
        }
      ]
    },
    {
      "cell_type": "markdown",
      "source": [
        "## part c"
      ],
      "metadata": {
        "id": "xRGbE90_A0mV"
      }
    },
    {
      "cell_type": "code",
      "source": [
        "import numpy as np\n",
        "\n",
        "# Define the functions f and g\n",
        "def f(x, y):\n",
        "    return 3*x**2 - y**2\n",
        "\n",
        "def g(x, y):\n",
        "    return 3*y**2 - x**3 - 1\n",
        "\n",
        "# Define the Jacobian matrix of (f, g)\n",
        "def jacobian(x, y):\n",
        "    return np.array([[6*x,   -2*y],\n",
        "                     [-3*x**2,  6*y]], dtype=float)\n",
        "\n",
        "# Newton's method function\n",
        "def newton(x0, y0, tol=1e-12):\n",
        "    x, y = x0, y0\n",
        "    iters = [(x, y)]\n",
        "\n",
        "    for n in range(50):\n",
        "        J = jacobian(x, y)\n",
        "\n",
        "        coeffs = np.array([f(x, y), g(x, y)], dtype=float)\n",
        "\n",
        "        delta = np.linalg.solve(J, coeffs)\n",
        "\n",
        "        x_new = x - delta[0]\n",
        "        y_new = y - delta[1]\n",
        "\n",
        "        if np.sqrt((x_new - x)**2 + (y_new - y)**2) < tol:\n",
        "            x, y = x_new, y_new\n",
        "            iters.append((x, y))\n",
        "            break\n",
        "\n",
        "        x, y = x_new, y_new\n",
        "        iters.append((x, y))\n",
        "\n",
        "    return x, y, iters\n",
        "\n",
        "x_newton, y_newton, iters_newton = newton(1, 1)\n",
        "\n",
        "for i, (xn, yn) in enumerate(iters_newton):\n",
        "    print(f\"Iteration {i}: x = {xn:.8f}, y = {yn:.8f}, f(x,y) = {f(xn,yn):.6e}, g(x,y) = {g(xn,yn):.6e}\")\n",
        "\n",
        "print(f\"\\nx ≈ {x_newton:.8f},  y ≈ {y_newton:.8f}, f(x,y) ≈ {f(x_newton, y_newton):.6e},  g(x,y) ≈ {g(x_newton, y_newton):.6e}\")\n",
        "\n"
      ],
      "metadata": {
        "colab": {
          "base_uri": "https://localhost:8080/"
        },
        "id": "kt9_K34qAzuH",
        "outputId": "44e60d06-8fae-4522-fcad-d0b215c28b5b"
      },
      "execution_count": 19,
      "outputs": [
        {
          "output_type": "stream",
          "name": "stdout",
          "text": [
            "Iteration 0: x = 1.00000000, y = 1.00000000, f(x,y) = 2.000000e+00, g(x,y) = 1.000000e+00\n",
            "Iteration 1: x = 0.53333333, y = 0.60000000, f(x,y) = 4.933333e-01, g(x,y) = -7.170370e-02\n",
            "Iteration 2: x = 0.37232385, y = 0.58175248, f(x,y) = 7.743919e-02, g(x,y) = -3.630555e-02\n",
            "Iteration 3: x = 0.34114131, y = 0.58843846, f(x,y) = 2.872350e-03, g(x,y) = -9.216609e-04\n",
            "Iteration 4: x = 0.33981255, y = 0.58856811, f(x,y) = 5.279992e-06, g(x,y) = -1.754184e-06\n",
            "Iteration 5: x = 0.33981011, y = 0.58856837, f(x,y) = 1.781103e-11, g(x,y) = -5.876188e-12\n",
            "Iteration 6: x = 0.33981011, y = 0.58856837, f(x,y) = 0.000000e+00, g(x,y) = 0.000000e+00\n",
            "Iteration 7: x = 0.33981011, y = 0.58856837, f(x,y) = 0.000000e+00, g(x,y) = 0.000000e+00\n",
            "\n",
            "x ≈ 0.33981011,  y ≈ 0.58856837, f(x,y) ≈ 0.000000e+00,  g(x,y) ≈ 0.000000e+00\n"
          ]
        }
      ]
    },
    {
      "cell_type": "markdown",
      "source": [
        "# Problem 3 b"
      ],
      "metadata": {
        "id": "ZRfAedcb1QiL"
      }
    },
    {
      "cell_type": "code",
      "source": [
        "def iteration(x, y, z, tol=1e-12):\n",
        "    num_iter = 0\n",
        "    for n in range(50):\n",
        "\n",
        "        f_ellip = x**2 + 4*y**2 + 4*z**2 - 16\n",
        "\n",
        "        print(f\"Iteration {n}: x={x: .8f}, y={y: .8f}, z={z: .8f}, f={f_ellip: .8e}\")\n",
        "        if abs(f_ellip) < tol:\n",
        "          num_iter = n\n",
        "          break\n",
        "\n",
        "        d = f_ellip / ((2*x)**2 + (8*y)**2 + (8*z)**2)\n",
        "\n",
        "        x -= d * (2*x)\n",
        "        y -= d * (8*y)\n",
        "        z -= d * (8*z)\n",
        "\n",
        "    return x, y, z, num_iter\n",
        "\n",
        "x_conv, y_conv, z_conv, num_iter = iteration(1, 1, 1)\n",
        "\n",
        "print(f\"number of iterations = {num_iter}, x = {x_conv:.8f}, y = {y_conv:.8f}, z = {z_conv:.8f}, output = {x_conv**2 + 4*y_conv**2 + 4*z_conv**2 - 16:.8e}\")"
      ],
      "metadata": {
        "colab": {
          "base_uri": "https://localhost:8080/"
        },
        "id": "6aq9RFzK1Td2",
        "outputId": "a4e10237-8dd2-4bd2-bb9b-be509accb0b0"
      },
      "execution_count": 11,
      "outputs": [
        {
          "output_type": "stream",
          "name": "stdout",
          "text": [
            "Iteration 0: x= 1.00000000, y= 1.00000000, z= 1.00000000, f=-7.00000000e+00\n",
            "Iteration 1: x= 1.10606061, y= 1.42424242, z= 1.42424242, f= 1.45110193e+00\n",
            "Iteration 2: x= 1.09392616, y= 1.36174169, z= 1.36174169, f= 3.13979746e-02\n",
            "Iteration 3: x= 1.09364246, y= 1.36032911, z= 1.36032911, f= 1.60437374e-05\n",
            "Iteration 4: x= 1.09364232, y= 1.36032838, z= 1.36032838, f= 4.19930757e-12\n",
            "Iteration 5: x= 1.09364232, y= 1.36032838, z= 1.36032838, f=-3.55271368e-15\n",
            "number of iterations = 5, x = 1.09364232, y = 1.36032838, z = 1.36032838, output = -3.55271368e-15\n"
          ]
        }
      ]
    }
  ]
}