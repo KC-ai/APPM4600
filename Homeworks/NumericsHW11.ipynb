{
  "nbformat": 4,
  "nbformat_minor": 0,
  "metadata": {
    "colab": {
      "provenance": [],
      "authorship_tag": "ABX9TyOcaKoii65OPFpNwExmIChp",
      "include_colab_link": true
    },
    "kernelspec": {
      "name": "python3",
      "display_name": "Python 3"
    },
    "language_info": {
      "name": "python"
    }
  },
  "cells": [
    {
      "cell_type": "markdown",
      "metadata": {
        "id": "view-in-github",
        "colab_type": "text"
      },
      "source": [
        "<a href=\"https://colab.research.google.com/github/KC-ai/APPM4600/blob/main/NumericsHW12.ipynb\" target=\"_parent\"><img src=\"https://colab.research.google.com/assets/colab-badge.svg\" alt=\"Open In Colab\"/></a>"
      ]
    },
    {
      "cell_type": "code",
      "source": [
        "import numpy as np\n",
        "from scipy.integrate import quad"
      ],
      "metadata": {
        "id": "_03Q5jMSiO1g"
      },
      "execution_count": 1,
      "outputs": []
    },
    {
      "cell_type": "code",
      "execution_count": 2,
      "metadata": {
        "id": "0TmJttPt093k"
      },
      "outputs": [],
      "source": [
        "def f(s):\n",
        "    return 1 / (1 + s**2)\n",
        "\n",
        "def composite_trapezoidal(a, b, n):\n",
        "    h = (b - a) / n\n",
        "    t = np.linspace(a, b, n + 1)\n",
        "    y = f(t)\n",
        "    T_n = (h / 2) * (y[0] + 2 * np.sum(y[1:n]) + y[n])\n",
        "    return T_n, n + 1\n",
        "\n",
        "def composite_simpson(a, b, n):\n",
        "    h = (b - a) / n\n",
        "    t = np.linspace(a, b, n + 1)\n",
        "    y = f(t)\n",
        "    oddS = np.sum(y[1:n:2])\n",
        "    evenS = np.sum(y[2:n-1:2])\n",
        "    S_n = (h / 3) * (y[0] + 4*oddS + 2*evenS + y[n])\n",
        "    return S_n, n + 1\n",
        "\n",
        "\n"
      ]
    },
    {
      "cell_type": "code",
      "source": [
        "T_n, trap_evals = composite_trapezoidal(-5, 5, 10)\n",
        "S_n, simp_evals = composite_simpson(-5, 5, 10)\n",
        "print(f\"Trapezoidal with n={10} is {T_n} and evals are: {trap_evals} and Simpson with n={10} is {S_n} and evals: {simp_evals} \")\n",
        "print(f)"
      ],
      "metadata": {
        "colab": {
          "base_uri": "https://localhost:8080/"
        },
        "id": "PUaeu8LEjQOr",
        "outputId": "03f40abc-c204-4591-b3b5-aec7f7077b6e"
      },
      "execution_count": 8,
      "outputs": [
        {
          "output_type": "stream",
          "name": "stdout",
          "text": [
            "Trapezoidal with n=10 is 2.7561085972850674 and evals are: 11 and Simpson with n=10 is 2.849170437405731 and evals: 11 \n",
            "<function f at 0x7b30b70b5260>\n"
          ]
        }
      ]
    },
    {
      "cell_type": "code",
      "source": [
        "quad_def, quad_err_def, quad_info_def = quad(f, -5, 5, epsabs=1e-6, full_output=1)\n",
        "quad_1e4, quad_err_1e4, quad_info_1e4 = quad(f, -5, 5, epsabs=1e-4, full_output=1)\n",
        "quad_evals_def = quad_info_def.get('neval', 'idk')\n",
        "quad_evals_1e4 = quad_info_1e4.get('neval', 'idk')\n",
        "\n",
        "print(f\"Trapezoidal with n={n_trap} is {Tn} and evals: {trap_evals}\")\n",
        "print(f\"Simpson with n={n_simp} is {Sn} and evals: {simp_evals}\")\n",
        "print(f\"Quad (1e-6) is {quad_def} with evals: {quad_evals_def}\")\n",
        "print(f\"Quad (1e-4) is {quad_1e4} with evals: {quad_evals_1e4}\")"
      ],
      "metadata": {
        "id": "-n1iBpnebWz_",
        "colab": {
          "base_uri": "https://localhost:8080/"
        },
        "outputId": "2d1e3e6c-62b8-43b8-fc41-a86019660978"
      },
      "execution_count": 9,
      "outputs": [
        {
          "output_type": "stream",
          "name": "stdout",
          "text": [
            "Trapezoidal with n=10 is 2.7561085972850674 and evals: 11\n",
            "Simpson with n=10 is 2.849170437405731 and evals: 11\n",
            "Quad (1e-6) is 2.7468015338900327 with evals: 147\n",
            "Quad (1e-4) is 2.746801533909586 with evals: 63\n"
          ]
        }
      ]
    }
  ]
}
