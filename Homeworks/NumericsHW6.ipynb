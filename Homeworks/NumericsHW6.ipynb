{
  "nbformat": 4,
  "nbformat_minor": 0,
  "metadata": {
    "colab": {
      "provenance": [],
      "authorship_tag": "ABX9TyPh8zkpWY6Du1m6fWj4xqPT",
      "include_colab_link": true
    },
    "kernelspec": {
      "name": "python3",
      "display_name": "Python 3"
    },
    "language_info": {
      "name": "python"
    }
  },
  "cells": [
    {
      "cell_type": "markdown",
      "metadata": {
        "id": "view-in-github",
        "colab_type": "text"
      },
      "source": [
        "<a href=\"https://colab.research.google.com/github/KC-ai/APPM4600/blob/main/NumericsHW6.ipynb\" target=\"_parent\"><img src=\"https://colab.research.google.com/assets/colab-badge.svg\" alt=\"Open In Colab\"/></a>"
      ]
    },
    {
      "cell_type": "code",
      "execution_count": 14,
      "metadata": {
        "id": "htwVRK5lHmZu"
      },
      "outputs": [],
      "source": [
        "import numpy as np\n",
        "from numpy.linalg import norm, solve"
      ]
    },
    {
      "cell_type": "markdown",
      "source": [
        "Problem 1"
      ],
      "metadata": {
        "id": "GIwBJ4a-HpXV"
      }
    },
    {
      "cell_type": "code",
      "source": [
        "def F1(xy):\n",
        "    x, y = xy\n",
        "    return np.array([x**2 + y**2 - 4,\n",
        "                     np.exp(x) + y - 1], dtype=float)\n",
        "\n",
        "def jacobian(xy):\n",
        "    x, y = xy\n",
        "    return np.array([[2*x,    2*y],\n",
        "                     [np.exp(x), 1   ]], dtype=float)\n",
        "\n",
        "\n",
        "def broyden(x0, tol=1e-8, max_iter=50):\n",
        "    x = np.array(x0, dtype=float)\n",
        "    B = np.eye(2)\n",
        "    Fx = F1(x)\n",
        "    for k in range(max_iter):\n",
        "        if norm(Fx) < tol:\n",
        "            return x, k\n",
        "\n",
        "        s = solve(B, -Fx)\n",
        "        x_new = x + s\n",
        "        Fx_new = F1(x_new)\n",
        "\n",
        "        y = Fx_new - Fx\n",
        "        denom = np.dot(s, s)\n",
        "        if abs(denom) < 1e-14:\n",
        "            return x_new, k+1\n",
        "\n",
        "        B += np.outer(y - B @ s, s) / denom\n",
        "\n",
        "        x, Fx = x_new, Fx_new\n",
        "\n",
        "    return x, max_iter\n",
        "\n",
        "\n",
        "def lazy_newton(x0, tol=1e-8, max_iter=50):\n",
        "    x = np.array(x0, dtype=float)\n",
        "\n",
        "    for k in range(max_iter):\n",
        "        Fx = F1(x)\n",
        "        if norm(Fx) < tol:\n",
        "            return x, k\n",
        "\n",
        "        J0 = jacobian(x)\n",
        "\n",
        "        if np.linalg.det(J0) == 0:\n",
        "            print(\"Jacobian is singular. Try a different initial guess.\")\n",
        "            return None, None\n",
        "\n",
        "        x = x + solve(J0, -Fx)\n",
        "    return x, max_iter"
      ],
      "metadata": {
        "id": "umuwGSpqHxJ8"
      },
      "execution_count": 15,
      "outputs": []
    },
    {
      "cell_type": "code",
      "source": [
        "\n",
        "initial_guesses = [(1,1), (1,-1), (0,0)]\n",
        "\n",
        "for g in initial_guesses:\n",
        "    print(f\"Initial guess: {g}\")\n",
        "\n",
        "    sol_b, it_b = broyden(g)\n",
        "    print(f\"Broyden-- Iterations:{it_b} --Solution:  {sol_b}\")\n",
        "\n",
        "    sol_ln, it_ln = lazy_newton(g)\n",
        "    print(f\"Lazy Newton -- Iterations:{it_ln} --Solution:  {sol_ln}\")\n"
      ],
      "metadata": {
        "colab": {
          "base_uri": "https://localhost:8080/"
        },
        "id": "So9F1e0DGSNJ",
        "outputId": "d084df68-edb0-4bae-a00c-0efe5879a8ae"
      },
      "execution_count": 16,
      "outputs": [
        {
          "output_type": "stream",
          "name": "stdout",
          "text": [
            "Initial guess: (1, 1)\n",
            "Broyden-- Iterations:20 --Solution:  [ 1.00416874 -1.72963729]\n",
            "Lazy Newton -- Iterations:7 --Solution:  [-1.81626407  0.8373678 ]\n",
            "Initial guess: (1, -1)\n",
            "Broyden-- Iterations:12 --Solution:  [ 1.00416874 -1.72963729]\n",
            "Lazy Newton -- Iterations:4 --Solution:  [ 1.00416874 -1.72963729]\n",
            "Initial guess: (0, 0)\n",
            "Broyden-- Iterations:19 --Solution:  [-1.81626407  0.8373678 ]\n",
            "Jacobian is singular. Try a different initial guess.\n",
            "Lazy Newton -- Iterations:None --Solution:  None\n"
          ]
        }
      ]
    },
    {
      "cell_type": "markdown",
      "source": [
        "Problem 2"
      ],
      "metadata": {
        "id": "jLLgG457Hut1"
      }
    },
    {
      "cell_type": "code",
      "source": [
        "def F(x0):\n",
        "    x, y, z = x0\n",
        "    system = np.array([\n",
        "        x + np.cos(x*y*z) - 1,\n",
        "        (1 - x)**0.25 + y + 0.05*z**2 - 0.15*z - 1,\n",
        "        -x**2 - 0.1*y**2 + 0.01*y + z - 1\n",
        "    ])\n",
        "    return system\n",
        "\n",
        "def Jacobian(X):\n",
        "    x, y, z = X\n",
        "\n",
        "    dF1dx1 = 1.0 - np.sin(x*y*z)*(y*z)\n",
        "    dF1dx2 =       - np.sin(x*y*z)*(x*z)\n",
        "    dF1dx3 =       - np.sin(x*y*z)*(x*y)\n",
        "\n",
        "    dF2dx1 = -1.0 / (4.0*(1.0 - x)**0.75)\n",
        "    dF2dx2 = 1.0\n",
        "    dF2dx3 = 0.10*z - 0.15\n",
        "\n",
        "    dF3dx1 = -2.0*x\n",
        "    dF3dx2 = -0.2*y + 0.01\n",
        "    dF3dx3 = 1.0\n",
        "\n",
        "    jacob = np.array([\n",
        "        [dF1dx1, dF1dx2, dF1dx3],\n",
        "        [dF2dx1, dF2dx2, dF2dx3],\n",
        "        [dF3dx1, dF3dx2, dF3dx3]\n",
        "    ])\n",
        "\n",
        "    return jacob"
      ],
      "metadata": {
        "id": "SpPbm1M0Hxzi"
      },
      "execution_count": 17,
      "outputs": []
    },
    {
      "cell_type": "code",
      "source": [
        "def newton(x0, tol=1e-6, max_iter=50):\n",
        "    x = x0.copy()\n",
        "    for k in range(max_iter):\n",
        "        Fx = F(x)\n",
        "        if np.linalg.norm(Fx) < tol:\n",
        "            return x, k+1\n",
        "\n",
        "        delta = np.linalg.solve(Jacobian(x), -Fx)\n",
        "        x += delta\n",
        "    return x, max_iter"
      ],
      "metadata": {
        "id": "qeSz1kcpIebm"
      },
      "execution_count": 18,
      "outputs": []
    },
    {
      "cell_type": "code",
      "source": [
        "def steepest_descent(x0, tol=1e-6, max_iter=2000, alpha=1e-3):\n",
        "    x = x0.copy()\n",
        "    for k in range(max_iter):\n",
        "        Fx = F(x)\n",
        "        if np.linalg.norm(Fx) < tol:\n",
        "            return x, k+1\n",
        "        grad_phi = Jacobian(x).T @ Fx\n",
        "        x -= alpha * grad_phi\n",
        "    return x, max_iter"
      ],
      "metadata": {
        "id": "WJov-NFLIed0"
      },
      "execution_count": 20,
      "outputs": []
    },
    {
      "cell_type": "code",
      "source": [
        "def hybrid_method(x0, tol_sd=5e-2, tol_newt=1e-6):\n",
        "    x = x0.copy()\n",
        "    alpha = 1e-3\n",
        "    for _ in range(2000):\n",
        "        Fx = F(x)\n",
        "        if np.linalg.norm(Fx) < tol_sd:\n",
        "            break\n",
        "        grad_phi = Jacobian(x).T @ Fx\n",
        "        x -= alpha * grad_phi\n",
        "    return newton(x, tol=tol_newt, max_iter=50)"
      ],
      "metadata": {
        "id": "poxdpWEHIegS"
      },
      "execution_count": 21,
      "outputs": []
    },
    {
      "cell_type": "code",
      "source": [
        "x0 = np.array([0.75, 0.75, 0.75])\n",
        "\n",
        "# Newton\n",
        "sol_n, it_n = newton(x0)\n",
        "print(f\"Newton's Method: Number of Iterations {it_n} with Solution {sol_n}\")\n",
        "# Steepest Descent\n",
        "sol_s, it_s = steepest_descent(x0)\n",
        "print(f\"Steepest Descent Method: Number of Iterations {it_s} with Solution {sol_s}\")\n",
        "# Steepest Descent -> Newton\n",
        "sol_h, it_h = hybrid_method(x0)\n",
        "print(f\"Hybrid Method: Number of Iterations {it_h} with Solution {sol_h}\")"
      ],
      "metadata": {
        "colab": {
          "base_uri": "https://localhost:8080/"
        },
        "id": "ccl9fFMMJ1W6",
        "outputId": "d1d6457a-c1c9-4377-d504-b248cb368d7b"
      },
      "execution_count": 22,
      "outputs": [
        {
          "output_type": "stream",
          "name": "stderr",
          "text": [
            "<ipython-input-17-cc68a09e8dd0>:5: RuntimeWarning: invalid value encountered in scalar power\n",
            "  (1 - x)**0.25 + y + 0.05*z**2 - 0.15*z - 1,\n",
            "<ipython-input-17-cc68a09e8dd0>:17: RuntimeWarning: invalid value encountered in scalar power\n",
            "  dF2dx1 = -1.0 / (4.0*(1.0 - x)**0.75)\n"
          ]
        },
        {
          "output_type": "stream",
          "name": "stdout",
          "text": [
            "Newton's Method: Number of Iterations 50 with Solution [nan nan nan]\n",
            "Steepest Descent Method: Number of Iterations 2000 with Solution [0.13956387 0.25629221 1.05511546]\n",
            "Hybrid Method: Number of Iterations 4 with Solution [1.29606844e-17 1.00000000e-01 1.00000000e+00]\n"
          ]
        }
      ]
    }
  ]
}