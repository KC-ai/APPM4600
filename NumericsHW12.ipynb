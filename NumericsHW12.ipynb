{
  "nbformat": 4,
  "nbformat_minor": 0,
  "metadata": {
    "colab": {
      "provenance": [],
      "authorship_tag": "ABX9TyMLzr4PFCVvlo/X9H3bXzVu",
      "include_colab_link": true
    },
    "kernelspec": {
      "name": "python3",
      "display_name": "Python 3"
    },
    "language_info": {
      "name": "python"
    }
  },
  "cells": [
    {
      "cell_type": "markdown",
      "metadata": {
        "id": "view-in-github",
        "colab_type": "text"
      },
      "source": [
        "<a href=\"https://colab.research.google.com/github/KC-ai/APPM4600/blob/main/NumericsHW12.ipynb\" target=\"_parent\"><img src=\"https://colab.research.google.com/assets/colab-badge.svg\" alt=\"Open In Colab\"/></a>"
      ]
    },
    {
      "cell_type": "code",
      "execution_count": null,
      "metadata": {
        "id": "QAk8jdNWHDSh"
      },
      "outputs": [],
      "source": [
        "import numpy as np\n",
        "from numpy.linalg import norm, eigvals, solve"
      ]
    },
    {
      "cell_type": "code",
      "source": [
        "# (a)\n",
        "\n",
        "def hilbert_matrix(n):\n",
        "    i = np.arange(1, n+1)\n",
        "    return 1.0/(i.reshape(-1,1)+i.reshape(1,-1)-1)\n",
        "\n",
        "def power_method(A, tol=1e-8, max_iter=10000):\n",
        "    x = np.ones(A.shape[0])\n",
        "    x/=norm(x)\n",
        "    lam_old = 0.0\n",
        "    for k in range(1, max_iter+1):\n",
        "        y = A@x\n",
        "        x = y/norm(y)\n",
        "        lam = x@(A@x)\n",
        "        if abs(lam-lam_old) < tol*abs(lam):\n",
        "            return lam, x, k\n",
        "        lam_old = lam\n",
        "    return lam, x, max_iter\n",
        "\n",
        "print(\"n   appr_lambda_1     true_lambda_1      abs_error    iterations\")\n",
        "for n in [4,8,12,16,20]:\n",
        "    A = hilbert_matrix(n)\n",
        "    lam, v, it = power_method(A)\n",
        "    true_dom = max(eigvals(A).real)\n",
        "    err = abs(lam-true_dom)\n",
        "    print(f\"{n:2d}    {lam:.8f}      {true_dom:.8f}          {err:.2e}       {it}\")\n"
      ],
      "metadata": {
        "colab": {
          "base_uri": "https://localhost:8080/"
        },
        "id": "CGGD3n8tIw1f",
        "outputId": "1fd31552-8764-473c-d711-791d57b42572"
      },
      "execution_count": null,
      "outputs": [
        {
          "output_type": "stream",
          "name": "stdout",
          "text": [
            "n   appr_lambda_1     true_lambda_1      abs_error    iterations\n",
            " 4    1.50021428      1.50021428          8.80e-11       5\n",
            " 8    1.69593900      1.69593900          3.87e-10       6\n",
            "12    1.79537206      1.79537206          2.02e-10       7\n",
            "16    1.86003644      1.86003644          1.09e-09       7\n",
            "20    1.90713472      1.90713472          2.25e-10       8\n"
          ]
        }
      ]
    },
    {
      "cell_type": "code",
      "source": [
        "#b\n",
        "def inverse_power_method(A, tol=1e-8, max_iter=10000):\n",
        "    x = np.ones(A.shape[0]); x/=norm(x)\n",
        "    mu_old = 0.0\n",
        "    for k in range(1, max_iter+1):\n",
        "        y = solve(A, x)\n",
        "        x = y/norm(y)\n",
        "        mu = x.dot(y)            # ≈ 1/λ_min\n",
        "        if mu_old and abs(mu-mu_old)<tol*abs(mu):\n",
        "            return 1/mu, x, k\n",
        "        mu_old = mu\n",
        "    return 1/mu, x, max_iter\n",
        "\n",
        "n=16\n",
        "A16 = hilbert_matrix(n)\n",
        "lam_min, v_min, it_min = inverse_power_method(A16)\n",
        "true_min = min(eigvals(A16).real)\n",
        "err_min = abs(lam_min-true_min)\n",
        "print(f\"n={n}  approx lambda_min={lam_min:.8e}   true lambda_min={true_min:.8e}   abs_error={err_min:.2e}   iterations={it_min}\")"
      ],
      "metadata": {
        "colab": {
          "base_uri": "https://localhost:8080/"
        },
        "id": "VTPpKF5OJEh3",
        "outputId": "908e3d6e-3056-45dd-b229-bf4821b38b3e"
      },
      "execution_count": null,
      "outputs": [
        {
          "output_type": "stream",
          "name": "stdout",
          "text": [
            "n=16  approx lambda_min=6.10326534e-19   true lambda_min=-7.16393990e-18   abs_error=7.77e-18   iterations=8\n"
          ]
        }
      ]
    },
    {
      "cell_type": "code",
      "source": [],
      "metadata": {
        "id": "gyImTATPJ8bC"
      },
      "execution_count": null,
      "outputs": []
    }
  ]
}